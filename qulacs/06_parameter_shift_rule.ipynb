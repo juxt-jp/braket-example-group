{
 "cells": [
  {
   "cell_type": "code",
   "execution_count": null,
   "id": "369d71c0-8afe-4e85-8d4d-a4a24b689e25",
   "metadata": {},
   "outputs": [],
   "source": [
    "#!pip install qulacs\n",
    "#!pip install matplotlib\n",
    "#!pip install numpy\n",
    "#!pip install scipy\n",
    "#!pip install tqdm"
   ]
  },
  {
   "cell_type": "code",
   "execution_count": null,
   "id": "c2e4b430-cb21-42cb-b9d4-5907a7f0d660",
   "metadata": {},
   "outputs": [],
   "source": [
    "from qulacs import Observable, QuantumState, QuantumCircuit\n",
    "import numpy as np\n",
    "import matplotlib.pyplot as plt\n",
    "from tqdm import tqdm"
   ]
  },
  {
   "cell_type": "markdown",
   "id": "8e58c633-31f7-4f70-bb0a-aca6dfc5415b",
   "metadata": {},
   "source": [
    "# パラメータシフト法による勾配最適化"
   ]
  },
  {
   "cell_type": "markdown",
   "id": "9763dcea-ff93-464e-87db-229c4a02ca40",
   "metadata": {},
   "source": [
    "パラメータシフト法によって勾配を求めて、変分量子アルゴリズムの最適化をしてみます。ここでは前回と同様にハイゼンベルグ模型\n",
    "$$H = \\sum_{i} J_{i} (X_iX_{i+1} + Y_iY_{1+1} + Z_iZ_{i+1})$$\n",
    "に対する VQE を行います。\n",
    "\n",
    "まずハミルトニアンと適当なパラメータ付き量子回路を定義します。"
   ]
  },
  {
   "cell_type": "code",
   "execution_count": null,
   "id": "21499df8-386f-4869-85cb-b60264fec7d2",
   "metadata": {},
   "outputs": [],
   "source": [
    "from qulacs import ParametricQuantumCircuit\n",
    "\n",
    "n_qubits = 4\n",
    "depth = 4\n",
    "circuit = ParametricQuantumCircuit(n_qubits)\n",
    "for d in range(depth):\n",
    "    for i in range(n_qubits):\n",
    "        circuit.add_parametric_RY_gate(i, 0.0)\n",
    "        circuit.add_parametric_RZ_gate(i, 0.0)\n",
    "    for i in range(n_qubits//2):\n",
    "        circuit.add_CZ_gate((i+d%2)%n_qubits, (i+1+d%2)%n_qubits)\n",
    "\n",
    "hamiltonian = Observable(n_qubits)\n",
    "np.random.seed(1)\n",
    "J_list = 2*np.random.rand(n_qubits)-1\n",
    "for i in range(n_qubits):\n",
    "    hamiltonian.add_operator(J_list[i], f\"X {i} X {(i+1)%n_qubits}\")\n",
    "    hamiltonian.add_operator(J_list[i], f\"Y {i} Y {(i+1)%n_qubits}\")\n",
    "    hamiltonian.add_operator(J_list[i], f\"Z {i} Z {(i+1)%n_qubits}\")"
   ]
  },
  {
   "cell_type": "markdown",
   "id": "58dc21e9-2134-4451-9046-ab673830b872",
   "metadata": {},
   "source": [
    "道具として、与えられたパラメータにおけるコスト関数 (この場合はエネルギー期待値) を返す関数を作っておきます。"
   ]
  },
  {
   "cell_type": "code",
   "execution_count": null,
   "id": "5f4548cd-620f-40d0-a518-bae3722d510b",
   "metadata": {},
   "outputs": [],
   "source": [
    "def get_cost(params):\n",
    "    state = QuantumState(n_qubits)\n",
    "    for i, p in enumerate(params):\n",
    "        circuit.set_parameter(i,p)\n",
    "    circuit.update_quantum_state(state)\n",
    "    return hamiltonian.get_expectation_value(state)"
   ]
  },
  {
   "cell_type": "markdown",
   "id": "662a9636-5c19-4a9d-bbf9-36a60574c636",
   "metadata": {},
   "source": [
    "## パラメータシフト法による勾配\n",
    "復習：$\\langle H(\\theta) \\rangle = \\langle \\psi(\\theta) | H | \\psi(\\theta) \\rangle$ で、パラメータ $\\theta$ がすべて $\\exp(-i\\theta P/2)$ ($P$はパウリ行列) の形で入っているとき、$\\frac{\\partial \\langle H(\\theta)\\rangle}{\\partial \\theta_i}$ は次のように求まります。\n",
    "$$\\frac{\\partial \\langle H(\\theta)\\rangle}{\\partial \\theta_i} = \\frac{1}{2}\\left(\\left\\langle H\\left(\\theta+\\frac{\\pi}{2}e_i\\right)\\right)-\\left\\langle H\\left(\\theta-\\frac{\\pi}{2}e_i\\right)\\right\\rangle\\right)$$\n",
    "ここで $e_i$ は $i$ 番目の成分だけ 1 でそれ以外はゼロのベクトルです。"
   ]
  },
  {
   "cell_type": "code",
   "execution_count": null,
   "id": "e75b0db1-5b3e-4f06-8f51-2c2dcbe0de3b",
   "metadata": {
    "tags": []
   },
   "outputs": [],
   "source": [
    "# パラメータシフト法によって、あるパラメータ params における勾配ベクトルを求めるコードを書いてください。\n",
    "def get_gradient_by_parameter_shift(params):\n",
    "    grad_vector = np.zeros_like(params)\n",
    "    tmp_params = np.copy(params)\n",
    "    for i in range(len(params)):\n",
    "        tmp_params[i] += np.pi/2\n",
    "        plus = get_cost(tmp_params)\n",
    "        tmp_params[i] -= np.pi\n",
    "        minus = get_cost(tmp_params)\n",
    "        grad_vector[i] = (plus-minus)/2\n",
    "        tmp_params[i] = params[i]\n",
    "    return grad_vector"
   ]
  },
  {
   "cell_type": "markdown",
   "id": "b25fea46-6fcf-43e1-aa1d-2cd5971d2328",
   "metadata": {},
   "source": [
    "正しく書けているか、有限差分による微分の近似値と比較しましょう。"
   ]
  },
  {
   "cell_type": "code",
   "execution_count": null,
   "id": "c5b18b9f-a6fa-45c7-b04c-dd73a907e4dc",
   "metadata": {},
   "outputs": [],
   "source": [
    "def get_gradient_by_finite_diff(params, eps=1e-6):\n",
    "    grad_vector = np.zeros_like(params)\n",
    "    tmp_params = np.copy(params)\n",
    "    for i in range(len(params)):\n",
    "        tmp_params[i] += eps\n",
    "        plus = get_cost(tmp_params)\n",
    "        tmp_params[i] -= 2*eps\n",
    "        minus = get_cost(tmp_params)\n",
    "        grad_vector[i] = (plus-minus)/2/eps\n",
    "        tmp_params[i] = params[i]\n",
    "    return grad_vector"
   ]
  },
  {
   "cell_type": "code",
   "execution_count": null,
   "id": "4be3c26c-e071-45cf-97a5-4e0ff1bbd9ca",
   "metadata": {},
   "outputs": [],
   "source": [
    "params = (2*np.random.random(circuit.get_parameter_count())-1)*np.pi\n",
    "print(get_gradient_by_parameter_shift(params))\n",
    "print(get_gradient_by_finite_diff(params))"
   ]
  },
  {
   "cell_type": "markdown",
   "id": "fd763d69-90a7-4e42-a652-01329221b479",
   "metadata": {},
   "source": [
    "## 最適化\n",
    "勾配降下法によって最適化しますが、先に答えを知っておきたいので、基底状態のエネルギーを得ておきましょう"
   ]
  },
  {
   "cell_type": "code",
   "execution_count": null,
   "id": "e7a87d6d-a7f2-483e-b5d3-c21b59ef8723",
   "metadata": {},
   "outputs": [],
   "source": [
    "from utility import get_matrix\n",
    "from scipy.sparse.linalg import eigsh\n",
    "eigvals = eigsh(get_matrix(hamiltonian), which=\"SR\")[0]\n",
    "print(\"ground state energy is:\", min(eigvals))"
   ]
  },
  {
   "cell_type": "markdown",
   "id": "1cb0b60f-af9a-4190-93dc-6cc2752d2c02",
   "metadata": {},
   "source": [
    "単純な勾配降下法によって最適化を行います。"
   ]
  },
  {
   "cell_type": "code",
   "execution_count": null,
   "id": "0cd2ebc7-4b0f-4af5-8aa9-fcb364a6beec",
   "metadata": {},
   "outputs": [],
   "source": [
    "n_steps = 1000\n",
    "rate = 0.1\n",
    "params = (2*np.random.random(circuit.get_parameter_count())-1)*np.pi\n",
    "cost_history = np.zeros(n_steps)\n",
    "for i in tqdm(range(n_steps)):\n",
    "    params -= get_gradient_by_parameter_shift(params)*rate\n",
    "    cost_history[i] = get_cost(params)"
   ]
  },
  {
   "cell_type": "code",
   "execution_count": null,
   "id": "7fd95107-072a-494f-bcda-7abf46576e78",
   "metadata": {},
   "outputs": [],
   "source": [
    "plt.plot(cost_history)\n",
    "plt.axhline(min(eigvals), color=\"black\", linestyle=\"dashed\")\n",
    "plt.ylabel(\"energy\")\n",
    "plt.xlabel(\"steps\")\n",
    "plt.show()"
   ]
  },
  {
   "cell_type": "markdown",
   "id": "f54e95da-d475-4313-8265-e90e7f663a1f",
   "metadata": {},
   "source": [
    "最適化できていますね。"
   ]
  },
  {
   "cell_type": "markdown",
   "id": "8bedafad-3823-48c1-a32b-fcdabfa0a643",
   "metadata": {},
   "source": [
    "## 発展編：統計ノイズのもとでの勾配降下法"
   ]
  },
  {
   "cell_type": "markdown",
   "id": "3cd609ab-95a2-496c-b592-b91ef5c7251f",
   "metadata": {},
   "source": [
    "前回行ったように、実際の実験では必ずサンプリングに伴う統計ノイズが発生します。統計ノイズのもとでも勾配降下法が機能するか見てみましょう。\n",
    "\n",
    "まずは統計ノイズを含むコスト関数を定義します。前回のサンプリングコードを流用します。"
   ]
  },
  {
   "cell_type": "code",
   "execution_count": null,
   "id": "e9a1ce2a-b44d-4d43-956a-ec8c4b58c00e",
   "metadata": {},
   "outputs": [],
   "source": [
    "def sample_ZZ(state, _n_shots):\n",
    "    global J_list\n",
    "    samples = state.sampling(_n_shots)\n",
    "    estimated_energy = 0\n",
    "    mask_list = [0b0011, 0b0110, 0b1100, 0b1001]\n",
    "    for s in samples:\n",
    "        for J, mask in zip(J_list, mask_list):\n",
    "            bitcount = bin(s & mask).count(\"1\")\n",
    "            estimated_energy += J*(-1)**bitcount/_n_shots\n",
    "    return estimated_energy\n",
    "\n",
    "from qulacs.gate import H, Sdag\n",
    "def sample_XX(state, _n_shots):\n",
    "    global J_list\n",
    "    for i in range(n_qubits):\n",
    "        H(i).update_quantum_state(state)\n",
    "    samples = state.sampling(_n_shots)\n",
    "    estimated_energy = 0\n",
    "    mask_list = [0b0011, 0b0110, 0b1100, 0b1001]\n",
    "    for s in samples:\n",
    "        for J, mask in zip(J_list, mask_list):\n",
    "            bitcount = bin(s & mask).count(\"1\")\n",
    "            estimated_energy += J*(-1)**bitcount/_n_shots\n",
    "    return estimated_energy\n",
    "\n",
    "def sample_YY(state, _n_shots):\n",
    "    global J_list\n",
    "    for i in range(n_qubits):\n",
    "        Sdag(i).update_quantum_state(state)\n",
    "        H(i).update_quantum_state(state)\n",
    "    samples = state.sampling(_n_shots)\n",
    "    estimated_energy = 0\n",
    "    mask_list = [0b0011, 0b0110, 0b1100, 0b1001]\n",
    "    for s in samples:\n",
    "        for J, mask in zip(J_list, mask_list):\n",
    "            bitcount = bin(s & mask).count(\"1\")\n",
    "            estimated_energy += J*(-1)**bitcount/_n_shots\n",
    "    return estimated_energy\n",
    "\n",
    "def sample_cost(params, n_shots=1000):\n",
    "    state = QuantumState(n_qubits)\n",
    "    for i, p in enumerate(params):\n",
    "        circuit.set_parameter(i,p)\n",
    "    circuit.update_quantum_state(state)\n",
    "    return sample_ZZ(state, n_shots) + sample_XX(state, n_shots) + sample_YY(state, n_shots)"
   ]
  },
  {
   "cell_type": "markdown",
   "id": "196ab297-5e6c-40c0-a4f6-69cd506341d2",
   "metadata": {},
   "source": [
    "一応正しくサンプリングできていることを確認しておきます。"
   ]
  },
  {
   "cell_type": "code",
   "execution_count": null,
   "id": "c54b2530-5d8d-463d-9479-c2676d294d8d",
   "metadata": {},
   "outputs": [],
   "source": [
    "n_tests = 1000\n",
    "costs = np.zeros(n_tests)\n",
    "for i in tqdm(range(n_tests)):\n",
    "    costs[i] = sample_cost(params)\n",
    "plt.hist(costs, bins=30, alpha=0.3)\n",
    "plt.axvline(get_cost(params), color=\"black\")\n",
    "plt.show()"
   ]
  },
  {
   "cell_type": "markdown",
   "id": "e0f05f83-d5ab-44a2-88bd-6b207756cfc9",
   "metadata": {},
   "source": [
    "できているようなので、最適化に移ります。\n",
    "\n",
    "### 有限差分による最適化\n",
    "まずは有限差分で最適化してみましょう。サンプリングをすると少し時間がかかるので、100 step だけやります。"
   ]
  },
  {
   "cell_type": "code",
   "execution_count": null,
   "id": "b64175eb-cac2-49aa-98f2-9c5e981aeca8",
   "metadata": {},
   "outputs": [],
   "source": [
    "def sample_gradient_by_finite_diff(params, eps=1e-6):\n",
    "    grad_vector = np.zeros_like(params)\n",
    "    tmp_params = np.copy(params)\n",
    "    for i in range(len(params)):\n",
    "        tmp_params[i] += eps\n",
    "        plus = sample_cost(tmp_params)\n",
    "        tmp_params[i] -= 2*eps\n",
    "        minus = sample_cost(tmp_params)\n",
    "        grad_vector[i] = (plus-minus)/2/eps\n",
    "        tmp_params[i] = params[i]\n",
    "    return grad_vector\n",
    "n_steps = 100\n",
    "rate = 0.1\n",
    "np.random.seed(1)\n",
    "params = (2*np.random.random(circuit.get_parameter_count())-1)*np.pi\n",
    "cost_history_fd = np.zeros(n_steps)\n",
    "for i in tqdm(range(n_steps)):\n",
    "    params -= sample_gradient_by_finite_diff(params)*rate\n",
    "    cost_history_fd[i] = get_cost(params)"
   ]
  },
  {
   "cell_type": "code",
   "execution_count": null,
   "id": "f0b560ae-0f96-4315-aa69-8d2724471fc2",
   "metadata": {},
   "outputs": [],
   "source": [
    "plt.plot(cost_history_fd)\n",
    "plt.axhline(min(eigvals), color=\"black\", linestyle=\"dashed\")\n",
    "plt.ylabel(\"energy\")\n",
    "plt.xlabel(\"steps\")\n",
    "plt.show()"
   ]
  },
  {
   "cell_type": "markdown",
   "id": "36e12890-da33-4f87-be82-835e58731ced",
   "metadata": {},
   "source": [
    "全然最適化できていないことがわかります。これは $\\langle H(\\theta+\\epsilon) \\rangle$ と $\\langle H(\\theta) \\rangle$ の差が統計誤差に負けているためだと考えられます。"
   ]
  },
  {
   "cell_type": "markdown",
   "id": "eba7995f-12f1-40e0-ade5-83822de8c0b4",
   "metadata": {},
   "source": [
    "### パラメータシフト法による最適化\n",
    "次にパラメータシフト法によって最適化してみましょう。"
   ]
  },
  {
   "cell_type": "code",
   "execution_count": null,
   "id": "43a7a2ce-e411-4908-9c4e-e5264988c51e",
   "metadata": {},
   "outputs": [],
   "source": [
    "def sample_gradient_by_parameter_shift(params, n_shots=1000):\n",
    "    grad_vector = np.zeros_like(params)\n",
    "    tmp_params = np.copy(params)\n",
    "    for i in range(len(params)):\n",
    "        tmp_params[i] += np.pi/2\n",
    "        plus = sample_cost(tmp_params, n_shots)\n",
    "        tmp_params[i] -= np.pi\n",
    "        minus = sample_cost(tmp_params,n_shots)\n",
    "        grad_vector[i] = (plus-minus)/2\n",
    "        tmp_params[i] = params[i]\n",
    "    return grad_vector\n",
    "n_steps = 100\n",
    "n_shots = 1000\n",
    "rate = 0.1\n",
    "np.random.seed(1)\n",
    "params = (2*np.random.random(circuit.get_parameter_count())-1)*np.pi\n",
    "cost_history_ps = np.zeros(n_steps)\n",
    "for i in tqdm(range(n_steps)):\n",
    "    params -= sample_gradient_by_parameter_shift(params, n_shots)*rate\n",
    "    cost_history_ps[i] = get_cost(params)"
   ]
  },
  {
   "cell_type": "code",
   "execution_count": null,
   "id": "9c4de5cd-7485-4ef0-9d22-0e2bd8602b2b",
   "metadata": {},
   "outputs": [],
   "source": [
    "plt.plot(cost_history_fd, label=\"FD\")\n",
    "plt.plot(cost_history_ps, label=\"PS\")\n",
    "plt.axhline(min(eigvals), color=\"black\", linestyle=\"dashed\")\n",
    "plt.ylabel(\"energy\")\n",
    "plt.xlabel(\"steps\")\n",
    "plt.legend()\n",
    "plt.show()"
   ]
  },
  {
   "cell_type": "markdown",
   "id": "1ee4c2de-7b60-4fe0-8aa3-6c543807da5d",
   "metadata": {},
   "source": [
    "パラメータシフト法が統計ノイズに対して圧倒的にロバストであることが確認できます。"
   ]
  },
  {
   "cell_type": "markdown",
   "id": "be0e95e4-2c5a-47d8-ad01-c19acb3dda4b",
   "metadata": {},
   "source": [
    "### 確率的勾配降下法との関係\n",
    "コスト関数 $f(\\theta)$ について、$\\mathbb{E}[\\hat{g}(\\theta)] = \\nabla f(\\theta)$ となるような乱数 $\\hat{g}$ を使って、\n",
    "$$\\theta \\to \\theta - \\alpha \\hat{g}$$\n",
    "と更新することによって最適化する方法を一般に確率的勾配降下法といいます。統計誤差付きのパラメータシフト法もこれと同じことをしているとみなせます。確率的勾配降下法では、$\\hat{g}$ が $\\nabla f$ の不偏推定量になっていさえいれば良いので、原理的には `n_shots` をどれだけ減らしてもパラメータシフト法は動くはずです。試しに `n_shots=1` でやってみましょう。"
   ]
  },
  {
   "cell_type": "code",
   "execution_count": null,
   "id": "c342f3ea-84ca-4b76-abee-7ed44ece4f75",
   "metadata": {
    "tags": []
   },
   "outputs": [],
   "source": [
    "n_steps = 10000\n",
    "n_shots = 1\n",
    "rate = 0.1\n",
    "np.random.seed(1)\n",
    "params = (2*np.random.random(circuit.get_parameter_count())-1)*np.pi\n",
    "cost_history_ps_1shot = np.zeros(n_steps)\n",
    "for i in tqdm(range(n_steps)):\n",
    "    params -= sample_gradient_by_parameter_shift(params, n_shots)*rate\n",
    "    cost_history_ps_1shot[i] = get_cost(params)"
   ]
  },
  {
   "cell_type": "code",
   "execution_count": null,
   "id": "94f22271-1cf2-4ccc-9fd3-459efae21dc0",
   "metadata": {},
   "outputs": [],
   "source": [
    "plt.plot(cost_history_ps_1shot, label=\"PS-1shot\")\n",
    "plt.plot(cost_history_ps, label=\"PS-1000shots\")\n",
    "plt.axhline(min(eigvals), color=\"black\", linestyle=\"dashed\")\n",
    "plt.ylabel(\"energy\")\n",
    "plt.xlabel(\"steps\")\n",
    "plt.legend()\n",
    "plt.show()"
   ]
  },
  {
   "cell_type": "markdown",
   "id": "93fa7b72-a781-4972-b138-4fe963348b59",
   "metadata": {},
   "source": [
    "全然だめですね。確率的勾配降下法を収束させるためにはステップ幅 $\\alpha$ を小さくしていかないといけないからです。そこで次は $\\alpha = \\alpha_0/(\\text{number of steps})$ で変化させていきます。"
   ]
  },
  {
   "cell_type": "code",
   "execution_count": null,
   "id": "67441ae8-623c-4e5d-9c9e-c158f3d2d562",
   "metadata": {},
   "outputs": [],
   "source": [
    "n_steps = 10000\n",
    "n_shots = 1\n",
    "rate = 0.1\n",
    "np.random.seed(1)\n",
    "params = (2*np.random.random(circuit.get_parameter_count())-1)*np.pi\n",
    "cost_history_ps_1shot = np.zeros(n_steps)\n",
    "for i in tqdm(range(n_steps)):\n",
    "    params -= sample_gradient_by_parameter_shift(params, n_shots)*rate/(i+1)\n",
    "    cost_history_ps_1shot[i] = get_cost(params)"
   ]
  },
  {
   "cell_type": "code",
   "execution_count": null,
   "id": "4bb6f5f2-40fd-4f91-8bcd-639724861838",
   "metadata": {},
   "outputs": [],
   "source": [
    "plt.plot(cost_history_ps_1shot, label=\"PS-1shot\")\n",
    "plt.plot(cost_history_ps, label=\"PS-1000shots\")\n",
    "plt.axhline(min(eigvals), color=\"black\", linestyle=\"dashed\")\n",
    "plt.ylabel(\"energy\")\n",
    "plt.xlabel(\"steps\")\n",
    "plt.legend()\n",
    "plt.show()"
   ]
  },
  {
   "cell_type": "markdown",
   "id": "e6e07d28-6e29-442b-96e2-637509e5a974",
   "metadata": {},
   "source": [
    "一応上よりは良くなりましたし、無限に続ければ収束しそうな雰囲気です (?)"
   ]
  },
  {
   "cell_type": "code",
   "execution_count": null,
   "id": "05bea6c8-faff-4376-9135-7a819e590888",
   "metadata": {},
   "outputs": [],
   "source": []
  }
 ],
 "metadata": {
  "kernelspec": {
   "display_name": "Python 3",
   "language": "python",
   "name": "python3"
  },
  "language_info": {
   "codemirror_mode": {
    "name": "ipython",
    "version": 3
   },
   "file_extension": ".py",
   "mimetype": "text/x-python",
   "name": "python",
   "nbconvert_exporter": "python",
   "pygments_lexer": "ipython3",
   "version": "3.8.10"
  }
 },
 "nbformat": 4,
 "nbformat_minor": 5
}

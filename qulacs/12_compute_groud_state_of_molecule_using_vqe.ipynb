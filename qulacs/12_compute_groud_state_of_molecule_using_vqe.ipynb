{
 "cells": [
  {
   "cell_type": "code",
   "execution_count": null,
   "metadata": {
    "colab": {
     "base_uri": "https://localhost:8080/",
     "height": 1000
    },
    "id": "ygjA-pqr8Qaz",
    "outputId": "4b3af365-0902-4190-b61d-a2762ecc5cc2"
   },
   "outputs": [],
   "source": [
    "!echo y | pip uninstall h5py\n",
    "!pip install h5py==3.1.0\n",
    "!pip install openfermion openfermionpyscf qulacs scipy"
   ]
  },
  {
   "cell_type": "code",
   "execution_count": 11,
   "metadata": {
    "id": "0C-dmTI_8n5a"
   },
   "outputs": [],
   "source": [
    "import numpy as np\n",
    "import matplotlib.pyplot as plt\n",
    "import scipy.optimize\n",
    "from openfermion.transforms import get_fermion_operator, jordan_wigner, bravyi_kitaev, symmetry_conserving_bravyi_kitaev\n",
    "from openfermion.ops import FermionOperator\n",
    "from pyscf import gto, scf, tools\n",
    "from qchem_util import get_molecular_hamiltonian_from_fcidump\n",
    "from qulacs.observable import create_observable_from_openfermion_text\n",
    "from qulacs import QuantumState, QuantumCircuit\n",
    "from qulacs.gate import X, RY, CNOT, merge, RY"
   ]
  },
  {
   "cell_type": "markdown",
   "metadata": {
    "id": "52AxHb8T-phX"
   },
   "source": [
    "# 量子変分固有値法（VQE)を用いた基底状態計算\n",
    "\n",
    "さて、ここまでで、量子コンピュータ上に電子の波動関数やハミルトニアンを載せる方法を学んだ。\n",
    "分子のエネルギー計算を量子コンピュータで実行するには、あとは、\n",
    "量子コンピュータを使って、以下の固有値問題をどう解くかがわかれば良い。\n",
    "$$H\\Psi = E\\Psi$$\n",
    "\n",
    "\n",
    "この方法もハミルトニアンの変換法と同様に複数存在する。\n",
    "将来的にどの計算法がデファクトスタンダードとなるかは、まだ未知数であるが、\n",
    "代表的なものは位相推定法（Phase Estimation Algorithm, PEA)と変分量子固有値法(Variational Quantum Eigensolver, VQE)の２つである。\n",
    "PEAは厳密解を多項式時間で解くことができるアルゴリズムであり、\n",
    "古典アルゴリズムに対する優位性が保証された方法となっている。\n",
    "しかし、PEAの量子回路は非常に深くなるため、水素分子のようなミニマルな系以外では、NISQ上で動作することは望めない。\n",
    "\n",
    "これに対して、VQEは量子回路$U(\\theta)$を使って、求めたい量子状態の近似波動関数$\\Psi_T(\\theta)$を表現し、量子回路のパラメータ$\\theta$は、$E_T(\\theta) = <\\Phi_T(\\theta) | H | \\Phi_T(\\theta) > $が最小化されるように古典コンピュータ上で決定する。VQEで用いる$U(\\theta)は$PEAに比べて浅い回路で良く、NISQでも（ある程度）動作する。\n",
    "\n",
    "「03_量子演算を変分的に分解する」や「08_簡単な量子回路学習を実行してみる 」では、コスト関数の最小化をおこなったが、VQEもコスト関数にエネルギーを使って同様のことをおこなっている。\n",
    "\n",
    "\n",
    "## 復習: 水素分子のハミルトニアンをqubit表現で用意\n",
    "\n",
    "さて、これまでの復習になるが、水素分子のハミルトニアンを用意してみる。\n"
   ]
  },
  {
   "cell_type": "code",
   "execution_count": 12,
   "metadata": {
    "colab": {
     "base_uri": "https://localhost:8080/"
    },
    "id": "KLFqgXn69VsA",
    "outputId": "2fad7fe3-d692-4d91-a710-aa0298b5be97"
   },
   "outputs": [
    {
     "name": "stdout",
     "output_type": "stream",
     "text": [
      "Parsing fcidump.rhf\n",
      "(-0.09706626816762906+0j) [] +\n",
      "(-0.04530261550379928+0j) [X0 X1 Y2 Y3] +\n",
      "(0.04530261550379928+0j) [X0 Y1 Y2 X3] +\n",
      "(0.04530261550379928+0j) [Y0 X1 X2 Y3] +\n",
      "(-0.04530261550379928+0j) [Y0 Y1 X2 X3] +\n",
      "(0.1714128264477691+0j) [Z0] +\n",
      "(0.16868898170361213+0j) [Z0 Z1] +\n",
      "(0.1206252348339042+0j) [Z0 Z2] +\n",
      "(0.16592785033770346+0j) [Z0 Z3] +\n",
      "(0.1714128264477692+0j) [Z1] +\n",
      "(0.16592785033770346+0j) [Z1 Z2] +\n",
      "(0.1206252348339042+0j) [Z1 Z3] +\n",
      "(-0.22343153690813558+0j) [Z2] +\n",
      "(0.1744128761226158+0j) [Z2 Z3] +\n",
      "(-0.2234315369081356+0j) [Z3]\n"
     ]
    }
   ],
   "source": [
    "# 水素分子、H-H距離は0.74Å と設定。STO-3GというGaussian型の原子基底関数を使用。\n",
    "mol_h2 = gto.M(atom = 'H 0 0 0; H 0 0 0.74', basis = 'sto-3g')\n",
    "# この水素分子の基底状態を平均場近似（Hartree-Fock theory)で計算してみる。\n",
    "mean_field_wavefunction = scf.RHF(mol_h2)\n",
    "mean_field_wavefunction.verbose = 0\n",
    "hf_energy = mean_field_wavefunction.kernel()\n",
    "# 第二量子化された電子のハミルトニアンを構築し、fcidump 形式で保存\n",
    "tools.fcidump.from_scf(mean_field_wavefunction, 'fcidump.rhf') \n",
    "# OpenFermionに第二量子化されたハミルトニアンをロード\n",
    "fermion_hamiltonian = get_fermion_operator(get_molecular_hamiltonian_from_fcidump('fcidump.rhf'))\n",
    "# Jordan-Wigner変換をおｋなう\n",
    "jw_qubit_hamiltonian = jordan_wigner(fermion_hamiltonian)\n",
    "print (jw_qubit_hamiltonian)"
   ]
  },
  {
   "cell_type": "markdown",
   "metadata": {
    "id": "5VYgS7v3Geao"
   },
   "source": [
    "## 量子回路上でのHartree-Fock状態の用意\n",
    "\n",
    "さて、VQEの量子回路$U(\\theta)$は、何かしらの初期波動関数$|\\Psi_0>$に作用して、近似波動関数を生成する。\n",
    "$$|\\Psi(\\theta)_T> = U(\\theta) |\\Psi_0> $$\n",
    "初期波動関数をどうするかは難しい問題であるが、Hartree-Fock波動関数は重ね合わせがない状態のため、簡単に用意でき、かつ既にみたように化学の問題においては99%程度の精度を持っている、という点で優れている。\n",
    "\n",
    "では、qulacsを使って、Hartree-Fock状態を用意しよう。\n"
   ]
  },
  {
   "cell_type": "code",
   "execution_count": 13,
   "metadata": {
    "id": "JdRnuM3LFru1"
   },
   "outputs": [],
   "source": [
    "n_qubit = 4 \n",
    "hf_state = QuantumState(n_qubit) # 4qubitの量子状態を用意。この時点では|0000> \n",
    "hf_state.set_computational_basis(int('0b0011',2)) # |0011>を用意"
   ]
  },
  {
   "cell_type": "markdown",
   "metadata": {
    "id": "gzUYGKAPLNp1"
   },
   "source": [
    "STO-3G基底関数を使った時の水素分子のHartree-Fockエネルギー -1.1167593073964248 が正しく得られているか確認してみよう。\n",
    "まず、OpenFermion形式で得られたハミルトニアンをqulacsで使える形式に変換する。"
   ]
  },
  {
   "cell_type": "code",
   "execution_count": 14,
   "metadata": {
    "id": "FejQzFMEII2w"
   },
   "outputs": [],
   "source": [
    "qulacs_hamiltonian = create_observable_from_openfermion_text(str(jw_qubit_hamiltonian))"
   ]
  },
  {
   "cell_type": "markdown",
   "metadata": {
    "id": "ATwOA7tvxf-0"
   },
   "source": [
    "hf_stateを使って、qulacs_hamiltonianの期待値を計算すれば、Hartree-Fockエネルギーが計算できる。"
   ]
  },
  {
   "cell_type": "code",
   "execution_count": 15,
   "metadata": {
    "colab": {
     "base_uri": "https://localhost:8080/"
    },
    "id": "DwzNvIbSIKkM",
    "outputId": "8d30aeab-fed8-4b6f-a6ea-e1a09927b037"
   },
   "outputs": [
    {
     "data": {
      "text/plain": [
       "-1.116759307396426"
      ]
     },
     "execution_count": 15,
     "metadata": {},
     "output_type": "execute_result"
    }
   ],
   "source": [
    "qulacs_hamiltonian.get_expectation_value(hf_state)"
   ]
  },
  {
   "cell_type": "markdown",
   "metadata": {
    "id": "ByfZb_blx3Fh"
   },
   "source": [
    "この値は、PySCFで計算した、Hartree-Fock Energy -1.1167593073964248 と一致していることが見て取れる。"
   ]
  },
  {
   "cell_type": "markdown",
   "metadata": {
    "id": "E7_mKIq_LA0R"
   },
   "source": [
    "# 波動関数を表す量子回路$U(\\theta)$の用意\n",
    "\n",
    "波動関数のモデルのことを物理では、ansatzと呼ぶ。\n",
    "このansatzが、VQEの場合、量子回路$U(\\theta)$となっている。\n",
    "どういった 分子の波動関数に対してどういった$U(\\theta)$がいいかは今も研究がおこなわれている最中であり、決定打となるようなものはまだ存在しない（と少なくとも思われている）。\n",
    "\n",
    "ここでは、Gard et al. による粒子数を保存する回路を用いることにしよう。\n",
    "（https://www.nature.com/articles/s41534-019-0240-1)\n",
    "\n"
   ]
  },
  {
   "cell_type": "code",
   "execution_count": 16,
   "metadata": {
    "id": "vVPhqo8qJfDI"
   },
   "outputs": [],
   "source": [
    "def create_A_gate(theta, target_two_qubits):\n",
    "  first = target_two_qubits[0]\n",
    "  second = target_two_qubits[1]\n",
    "  CNOT02 = CNOT(first, second)\n",
    "  CRY0 = RY(first, theta+np.pi/2)\n",
    "  CRY0_minus = RY(first, -(theta+np.pi/2))\n",
    "  CNOT20 = CNOT(second, first)\n",
    "  return merge(merge(merge(merge(CNOT02, CRY0), CNOT20), CRY0_minus), CNOT02)"
   ]
  },
  {
   "cell_type": "code",
   "execution_count": 17,
   "metadata": {
    "colab": {
     "base_uri": "https://localhost:8080/"
    },
    "id": "r1PJlnInR_49",
    "outputId": "82eb9db8-b3ce-4aed-a456-b4f8075039aa"
   },
   "outputs": [
    {
     "data": {
      "text/plain": [
       " *** gate info *** \n",
       " * gate name : DenseMatrix\n",
       " * target    : \n",
       " 0 : commute       \n",
       " 2 : commute       \n",
       " * control   : \n",
       " * Pauli     : no\n",
       " * Clifford  : no\n",
       " * Gaussian  : no\n",
       " * Parametric: no\n",
       " * Diagonal  : no\n",
       " * Matrix\n",
       "          (1,0)           (0,0)           (0,0)           (0,0)\n",
       "          (0,0)           (1,0) (2.22045e-16,0)           (0,0)\n",
       "          (0,0) (2.22045e-16,0)          (-1,0)           (0,0)\n",
       "          (0,0)           (0,0)           (0,0)           (1,0)"
      ]
     },
     "execution_count": 17,
     "metadata": {},
     "output_type": "execute_result"
    }
   ],
   "source": [
    "create_A_gate(0.0, [0, 2])"
   ]
  },
  {
   "cell_type": "markdown",
   "metadata": {
    "id": "WXyHWdKe30I2"
   },
   "source": [
    "この粒子数保存回路は、2つの量子ビットに作用し、１電子の移動（励起）を表現できる。\n",
    "この回路を組み合わせて作ったアンザッツ(ansatz)を使ってコスト関数（エネルギー）を計算するルーチンを以下のように用意する。"
   ]
  },
  {
   "cell_type": "code",
   "execution_count": 24,
   "metadata": {
    "id": "8ypzv2H3C_Fq"
   },
   "outputs": [],
   "source": [
    "n_repeat = 2 #量子回路の深さ\n",
    "def cost(parameters):\n",
    "    #初期波動関数の用意\n",
    "    n_qubit = 4 \n",
    "    state = QuantumState(n_qubit) # 4qubitの量子状態を用意。この時点では|0000> \n",
    "    state.set_computational_basis(int('0b0011',2)) # |0011>を用意\n",
    "    #ansatz(量子回路を用意)\n",
    "    num_paras = len(parameters)\n",
    "    ansatz = QuantumCircuit(n_qubit)\n",
    "    for i in range(n_repeat):\n",
    "        idx = 2*i \n",
    "        ansatz.add_gate(create_A_gate(parameters[idx], [0, 2]))\n",
    "        ansatz.add_gate(create_A_gate(parameters[idx+1], [1, 3]))\n",
    "        ansatz.add_gate(create_A_gate(parameters[idx], [1, 2]))\n",
    "    #近似波動関数の生成\n",
    "    ansatz.update_quantum_state(state)\n",
    "    return qulacs_hamiltonian.get_expectation_value(state) #エネルギーを返す。"
   ]
  },
  {
   "cell_type": "markdown",
   "metadata": {
    "id": "DU2BQCAqz1xr"
   },
   "source": [
    "このコスト関数を最適化すれば、VQE計算を実行したことになる。\n",
    "では、実行してみよう。"
   ]
  },
  {
   "cell_type": "code",
   "execution_count": 25,
   "metadata": {
    "colab": {
     "base_uri": "https://localhost:8080/",
     "height": 331
    },
    "id": "qPptQdMUAo48",
    "outputId": "1c1c8996-e317-4b3b-f0fa-52cc6e2fa67a"
   },
   "outputs": [
    {
     "name": "stdout",
     "output_type": "stream",
     "text": [
      "Convderged VQE Energy (in hartree) -1.1371944668015292\n",
      "c.f., Full CI Energy (in hartree)  -1.1372838344885023\n"
     ]
    },
    {
     "data": {
      "image/png": "[encoded data removed]",
      "text/plain": [
       "<Figure size 432x288 with 1 Axes>"
      ]
     },
     "metadata": {
      "needs_background": "light"
     },
     "output_type": "display_data"
    }
   ],
   "source": [
    "import scipy.optimize\n",
    "\n",
    "cost_history = []\n",
    "\n",
    "#パラメータの初期値\n",
    "init_theta_list = [np.random.random() for i in range(n_repeat*2)]\n",
    "#init_theta_list = [0.1 for i in range(n_repeat*2)]\n",
    "cost_history.append(cost(init_theta_list))\n",
    "\n",
    "method = \"BFGS\"\n",
    "options = {\"disp\": True, \"maxiter\": 50, \"gtol\": 1e-6}\n",
    "\n",
    "opt = scipy.optimize.minimize(cost, init_theta_list,\n",
    "               method=method,\n",
    "               callback=lambda x: cost_history.append(cost(x)))\n",
    "\n",
    "#print (cost_history)\n",
    "print (\"Convderged VQE Energy (in hartree)\", cost_history[-1])\n",
    "print (\"c.f., Full CI Energy (in hartree)  -1.1372838344885023\")\n",
    "plt.rcParams[\"font.size\"] = 18\n",
    "plt.plot(cost_history)\n",
    "plt.xlabel(\"Iteration\")\n",
    "plt.ylabel(\"Energy\")\n",
    "plt.show()"
   ]
  },
  {
   "cell_type": "markdown",
   "metadata": {
    "id": "Ea1XQuSbulg5"
   },
   "source": [
    "VQE Energyが 0.001 hartree以下の誤差で、Full CIのエネルギーを再現していることが見て取れる。n_repeatの数を増やして、もっと深い量子回路にすれば、Full CIと厳密に一致する解を得ることができる。逆に、n_repeatの数を減らすと(i.e., 1)、精度が低下することが確認できるので、実行してみよう。\n"
   ]
  },
  {
   "cell_type": "code",
   "execution_count": null,
   "metadata": {},
   "outputs": [],
   "source": []
  }
 ],
 "metadata": {
  "colab": {
   "collapsed_sections": [],
   "name": "12_compute_groud_state_of_molecule_using_vqe.ipynb ",
   "provenance": []
  },
  "kernelspec": {
   "display_name": "Python 3",
   "language": "python",
   "name": "python3"
  },
  "language_info": {
   "codemirror_mode": {
    "name": "ipython",
    "version": 3
   },
   "file_extension": ".py",
   "mimetype": "text/x-python",
   "name": "python",
   "nbconvert_exporter": "python",
   "pygments_lexer": "ipython3",
   "version": "3.8.10"
  }
 },
 "nbformat": 4,
 "nbformat_minor": 4
}
